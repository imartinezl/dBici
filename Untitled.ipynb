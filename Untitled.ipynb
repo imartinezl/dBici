{
 "cells": [
  {
   "cell_type": "code",
   "execution_count": 12,
   "metadata": {},
   "outputs": [],
   "source": [
    "import json\n",
    "import requests\n",
    "import pandas as pd\n",
    "import numpy as np\n",
    "import time\n",
    "import psycopg2\n"
   ]
  },
  {
   "cell_type": "code",
   "execution_count": 71,
   "metadata": {},
   "outputs": [],
   "source": [
    "conn_string = \"host='localhost' dbname='dBici' user='postgres' password='root'\""
   ]
  },
  {
   "cell_type": "code",
   "execution_count": 75,
   "metadata": {},
   "outputs": [],
   "source": [
    "def get_data(conn_string):\n",
    "    conn = psycopg2.connect(conn_string)\n",
    "    cursor = conn.cursor()\n",
    "    cursor.execute(\"SELECT * FROM stations_data\")\n",
    "    records = cursor.fetchall()\n",
    "    cursor.close()\n",
    "    conn.close()\n",
    "    return records"
   ]
  },
  {
   "cell_type": "code",
   "execution_count": 119,
   "metadata": {},
   "outputs": [],
   "source": [
    "def insert_json(conn_string,now,json_data):\n",
    "    conn = psycopg2.connect(conn_string)\n",
    "    cursor = conn.cursor()\n",
    "    #for i in range(len(json_data)):\n",
    "     #   query = \"INSERT INTO stations_data (unixtime, station_number, json_data) VALUES ({},{},'{}')\".format(now,json_data[i]['numero_estacion'],json.dumps(json_data[i]))\n",
    "      #  cursor.execute(query)\n",
    "    query = \"INSERT INTO stations_data (unixtime, json_data) VALUES ({},'{}')\".format(now,json.dumps(json_data))\n",
    "    cursor.execute(query)\n",
    "    conn.commit()\n",
    "    cursor.close()\n",
    "    conn.close()\n"
   ]
  },
  {
   "cell_type": "code",
   "execution_count": null,
   "metadata": {},
   "outputs": [],
   "source": [
    "get_data(conn_string)"
   ]
  },
  {
   "cell_type": "code",
   "execution_count": 122,
   "metadata": {},
   "outputs": [],
   "source": [
    "insert_json(conn_string,now,json_data)"
   ]
  },
  {
   "cell_type": "code",
   "execution_count": null,
   "metadata": {},
   "outputs": [
    {
     "name": "stdout",
     "output_type": "stream",
     "text": [
      "New entry at  1527965027\n",
      "New entry at  1527965078\n",
      "New entry at  1527965446\n",
      "New entry at  1527965690\n",
      "New entry at  1527966058\n",
      "New entry at  1527966426\n",
      "New entry at  1527966799\n",
      "New entry at  1527967166\n",
      "New entry at  1527967533\n",
      "New entry at  1527967900\n",
      "New entry at  1527968268\n",
      "New entry at  1527968635\n",
      "New entry at  1527969002\n",
      "New entry at  1527969369\n",
      "New entry at  1527969736\n",
      "New entry at  1527970103\n",
      "New entry at  1527970469\n",
      "New entry at  1527970836\n",
      "New entry at  1527971203\n",
      "New entry at  1527971570\n",
      "New entry at  1527971814\n",
      "New entry at  1527972181\n",
      "New entry at  1527972550\n",
      "New entry at  1527972916\n",
      "New entry at  1527973286\n",
      "New entry at  1527973653\n",
      "New entry at  1527974020\n",
      "New entry at  1527975121\n",
      "New entry at  1527975855\n",
      "New entry at  1527976222\n",
      "New entry at  1527981243\n",
      "New entry at  1527986690\n"
     ]
    }
   ],
   "source": [
    "\n",
    "link_ = \"http://www.donostia.eus/info/ciudadano/Videowall.nsf/estaciones.xsp\"\n",
    "\n",
    "last_state = None\n",
    "while True:\n",
    "    response = requests.get(link_)\n",
    "    if response.status_code == 200:\n",
    "        json_data = json.loads(response.text)\n",
    "        now = int(time.time()) \n",
    "        if last_state != json_data:\n",
    "            insert_json(conn_string,now,json_data)\n",
    "            print(\"New entry at \",now)\n",
    "        last_state = json_data\n",
    "    time.sleep(10)"
   ]
  },
  {
   "cell_type": "code",
   "execution_count": null,
   "metadata": {},
   "outputs": [],
   "source": []
  }
 ],
 "metadata": {
  "kernelspec": {
   "display_name": "Python 3",
   "language": "python",
   "name": "python3"
  },
  "language_info": {
   "codemirror_mode": {
    "name": "ipython",
    "version": 3
   },
   "file_extension": ".py",
   "mimetype": "text/x-python",
   "name": "python",
   "nbconvert_exporter": "python",
   "pygments_lexer": "ipython3",
   "version": "3.6.4"
  }
 },
 "nbformat": 4,
 "nbformat_minor": 2
}
